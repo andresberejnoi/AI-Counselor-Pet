{
 "cells": [
  {
   "cell_type": "code",
   "execution_count": 1,
   "id": "97e2b6d4",
   "metadata": {},
   "outputs": [],
   "source": [
    "from tools import parse_RAVDESS_filename\n",
    "import os\n",
    "import shutil\n",
    "from pathlib import Path"
   ]
  },
  {
   "cell_type": "code",
   "execution_count": 2,
   "id": "40ca594d",
   "metadata": {},
   "outputs": [],
   "source": [
    "root_datasets_path  = './preprocessed_datasets/ravdess_dataset'\n",
    "speech_files_folder = 'speech'\n",
    "song_files_folder   = 'song'\n",
    "speech_root         = os.path.join(root_datasets_path, speech_files_folder)\n",
    "\n",
    "root_target         = './datasets'\n",
    "\n",
    "base_actor          = 'Actor_'\n",
    "num_actors          = 24        #this number could be computed from the number of actor folders instead of hardcoding it"
   ]
  },
  {
   "cell_type": "code",
   "execution_count": 3,
   "id": "79dd7c30",
   "metadata": {},
   "outputs": [],
   "source": [
    "def make_str_id(int_id):\n",
    "    str_id = f\"{int_id:02}\"  #return the str id using 2 characters, with leading zeros if needed\n",
    "    return str_id"
   ]
  },
  {
   "cell_type": "code",
   "execution_count": 5,
   "id": "2f1a81ce",
   "metadata": {},
   "outputs": [
    {
     "name": "stdout",
     "output_type": "stream",
     "text": [
      "\n",
      "-> Finished Copying. Total number of files processed: 1440\n"
     ]
    }
   ],
   "source": [
    "total_copied_files = 0\n",
    "for i in range(1, num_actors+1):  #the dataset starts counting from 1\n",
    "    str_id            = make_str_id(i)\n",
    "    actor_folder      = base_actor + str_id\n",
    "    source_files_path = os.path.join(speech_root, actor_folder)\n",
    "\n",
    "    for dir_name in os.scandir(source_files_path):\n",
    "        filename = dir_name.name\n",
    "        src_filename_path   = os.path.join(source_files_path, filename)\n",
    "        \n",
    "        file_info = parse_RAVDESS_filename(filename) \n",
    "        emotion   = file_info['emotion']\n",
    "        \n",
    "        target_emotion_path = os.path.join(root_target, emotion)\n",
    "        os.makedirs(target_emotion_path, exist_ok=True)\n",
    "        \n",
    "        target_filename_path = os.path.join(target_emotion_path, filename)\n",
    "        shutil.copyfile(src_filename_path, target_filename_path)\n",
    "        total_copied_files += 1\n",
    "        \n",
    "print(f\"\\n-> Finished Copying. Total number of files processed: {total_copied_files}\")"
   ]
  },
  {
   "cell_type": "code",
   "execution_count": 8,
   "id": "2723d732",
   "metadata": {},
   "outputs": [
    {
     "name": "stdout",
     "output_type": "stream",
     "text": [
      "4.3 ms ± 64 µs per loop (mean ± std. dev. of 7 runs, 100 loops each)\n"
     ]
    }
   ],
   "source": [
    "%%timeit\n",
    "c = 0\n",
    "for i in range(100000):\n",
    "    c += i"
   ]
  },
  {
   "cell_type": "code",
   "execution_count": null,
   "id": "bdcaf7a8",
   "metadata": {},
   "outputs": [],
   "source": []
  }
 ],
 "metadata": {
  "kernelspec": {
   "display_name": "Python 3 (ipykernel)",
   "language": "python",
   "name": "python3"
  },
  "language_info": {
   "codemirror_mode": {
    "name": "ipython",
    "version": 3
   },
   "file_extension": ".py",
   "mimetype": "text/x-python",
   "name": "python",
   "nbconvert_exporter": "python",
   "pygments_lexer": "ipython3",
   "version": "3.9.7"
  }
 },
 "nbformat": 4,
 "nbformat_minor": 5
}
