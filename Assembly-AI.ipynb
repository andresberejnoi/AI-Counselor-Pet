{
 "cells": [
  {
   "cell_type": "code",
   "execution_count": 1,
   "id": "0ebb3d11",
   "metadata": {},
   "outputs": [],
   "source": [
    "import sys, os\n",
    "import time\n",
    "import requests"
   ]
  },
  {
   "cell_type": "code",
   "execution_count": 2,
   "id": "06d82f94",
   "metadata": {},
   "outputs": [],
   "source": [
    "def read_file(filename, chunk_size=5242880):\n",
    "    with open(filename, 'rb') as _file:\n",
    "        while True:\n",
    "            data = _file.read(chunk_size)\n",
    "            if not data:\n",
    "                break\n",
    "            yield data\n",
    "            \n",
    "def check_status(endpoint, response):\n",
    "    '''\n",
    "    check status at every 0.5 s.\n",
    "    '''\n",
    "    status = response.json()['status']\n",
    "    while status == 'queued' or status == 'failed' or status == 'processing':\n",
    "        time.sleep(0.5)\n",
    "        response = requests.get(endpoint, headers=headers)\n",
    "        status = response.json()['status']\n",
    "    else:\n",
    "        return status, response\n",
    " "
   ]
  },
  {
   "cell_type": "code",
   "execution_count": 3,
   "id": "8eb6e464",
   "metadata": {},
   "outputs": [],
   "source": [
    "def speech_to_text(audio_file_path):\n",
    "    '''\n",
    "    Given an audio file, the function will return the text.\n",
    "    '''\n",
    "    \n",
    "    upload_url_response = requests.post('https://api.assemblyai.com/v2/upload',\n",
    "                         headers=headers,\n",
    "                         data=read_file(audio_file_path))\n",
    "    \n",
    "    # Get the transcription result.\n",
    "    endpoint = \"https://api.assemblyai.com/v2/transcript\"\n",
    "\n",
    "    json = {\n",
    "      \"audio_url\": upload_url_response.json()['upload_url']\n",
    "    }\n",
    "    id_response = requests.post(endpoint, json=json, headers=headers)\n",
    "\n",
    "    # perhaps standing in the queue\n",
    "    \n",
    "    transcription_id  = id_response.json()['id']\n",
    "    endpoint = \"https://api.assemblyai.com/v2/transcript/\" + transcription_id\n",
    "    id_response = requests.get(endpoint, headers=headers)\n",
    "    status = id_response.json()['status']\n",
    "    status_result, id_response = check_status(endpoint, id_response)\n",
    "    \n",
    "    # if status is completed, fetch the results\n",
    "    if status_result == 'completed':\n",
    "        text_result = id_response.json()['text']\n",
    "        return audio_file_path, text_result\n",
    "    else:\n",
    "        return audio_file_path, 'Not Successful.'"
   ]
  },
  {
   "cell_type": "code",
   "execution_count": 11,
   "id": "4477c0f6",
   "metadata": {},
   "outputs": [
    {
     "name": "stdout",
     "output_type": "stream",
     "text": [
      "Kids are talking by the door.\n",
      "--- 9.81611680984497 seconds ---\n"
     ]
    }
   ],
   "source": [
    "path = 'C:/Users/pzin/OneDrive - Simulations Plus, Inc/Documents/HackNC/AI-Counselor-Pet/preprocessed_datasets/ravdess_dataset/speech/Actor_01/'\n",
    "\n",
    "# files_in_path = os.listdir(path)\n",
    "\n",
    "filename = \"03-01-01-01-01-02-01.wav\"\n",
    "\n",
    "headers = {\n",
    "    \"authorization\": \"8a79d503a3de4c05a502b94b26545cd9\",\n",
    "    \"content-type\": \"application/json\"\n",
    "}\n",
    "\n",
    "start_time = time.time()\n",
    "file, text = speech_to_text(os.path.join(path, filename))\n",
    "print(text)\n",
    "print(\"--- %s seconds ---\" % (time.time() - start_time))\n"
   ]
  },
  {
   "cell_type": "code",
   "execution_count": null,
   "id": "5c097912",
   "metadata": {},
   "outputs": [],
   "source": []
  }
 ],
 "metadata": {
  "kernelspec": {
   "display_name": "Python 3 (ipykernel)",
   "language": "python",
   "name": "python3"
  },
  "language_info": {
   "codemirror_mode": {
    "name": "ipython",
    "version": 3
   },
   "file_extension": ".py",
   "mimetype": "text/x-python",
   "name": "python",
   "nbconvert_exporter": "python",
   "pygments_lexer": "ipython3",
   "version": "3.9.7"
  }
 },
 "nbformat": 4,
 "nbformat_minor": 5
}
